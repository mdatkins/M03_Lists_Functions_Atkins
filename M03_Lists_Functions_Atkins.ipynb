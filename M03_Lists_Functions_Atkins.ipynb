{
 "cells": [
  {
   "cell_type": "markdown",
   "id": "7901ce30",
   "metadata": {},
   "source": [
    "SDEV 220 Module 3 Programming assignment    \n",
    "Mark Atkins  11/04/2023"
   ]
  },
  {
   "cell_type": "code",
   "execution_count": 1,
   "id": "4ab3aff8",
   "metadata": {},
   "outputs": [
    {
     "data": {
      "text/plain": [
       "[1959, 1960, 1961, 1962, 1963, 1964]"
      ]
     },
     "execution_count": 1,
     "metadata": {},
     "output_type": "execute_result"
    }
   ],
   "source": [
    "# For fun: 7.1 Create a list called years_list, starting with the year of your birth\n",
    "\n",
    "years_list = [1959 + n for n in range(6)]\n",
    "years_list"
   ]
  },
  {
   "cell_type": "markdown",
   "id": "cb7f894d",
   "metadata": {},
   "source": [
    "7.4 Make a list called things with these three strings as elements: \"mozzarella\", \"cinderella\", \"salmonella\"."
   ]
  },
  {
   "cell_type": "code",
   "execution_count": 4,
   "id": "f23c6f8b",
   "metadata": {},
   "outputs": [
    {
     "data": {
      "text/plain": [
       "['mozzarella', 'cinderella', 'salmonella']"
      ]
     },
     "execution_count": 4,
     "metadata": {},
     "output_type": "execute_result"
    }
   ],
   "source": [
    "things = [\"mozzarella\", \"cinderella\", \"salmonella\"]\n",
    "things"
   ]
  },
  {
   "cell_type": "markdown",
   "id": "89520ce2",
   "metadata": {},
   "source": [
    "7.5 Capitalize the element in things that refers to a person and then print the list. Did it change the element in the list?\n",
    "*yes, the element changed using my syntax things[1] = things[1].capitalize()"
   ]
  },
  {
   "cell_type": "code",
   "execution_count": 6,
   "id": "919a0cdd",
   "metadata": {},
   "outputs": [
    {
     "data": {
      "text/plain": [
       "['mozzarella', 'Cinderella', 'salmonella']"
      ]
     },
     "execution_count": 6,
     "metadata": {},
     "output_type": "execute_result"
    }
   ],
   "source": [
    "things[1] = things[1].capitalize()\n",
    "things"
   ]
  },
  {
   "cell_type": "markdown",
   "id": "1fdc97ff",
   "metadata": {},
   "source": [
    "7.6 Make the cheesy element of things all uppercase and then print the list."
   ]
  },
  {
   "cell_type": "code",
   "execution_count": 7,
   "id": "5013886c",
   "metadata": {},
   "outputs": [
    {
     "data": {
      "text/plain": [
       "['MOZZARELLA', 'Cinderella', 'salmonella']"
      ]
     },
     "execution_count": 7,
     "metadata": {},
     "output_type": "execute_result"
    }
   ],
   "source": [
    "things[0] = things[0].upper()\n",
    "things"
   ]
  },
  {
   "cell_type": "markdown",
   "id": "61e8510a",
   "metadata": {},
   "source": [
    "7.7 Delete the disease element from things, collect your Nobel Prize, and print the list."
   ]
  },
  {
   "cell_type": "code",
   "execution_count": 14,
   "id": "f4d8a5c3",
   "metadata": {},
   "outputs": [
    {
     "data": {
      "text/plain": [
       "['mozzarella', 'cinderella']"
      ]
     },
     "execution_count": 14,
     "metadata": {},
     "output_type": "execute_result"
    }
   ],
   "source": [
    "things.pop()\n",
    "things\n",
    "# alternative method\n",
    "things = [\"mozzarella\", \"cinderella\", \"salmonella\"]\n",
    "things\n",
    "things.remove(\"salmonella\")\n",
    "things"
   ]
  },
  {
   "cell_type": "markdown",
   "id": "593d0c3a",
   "metadata": {},
   "source": [
    "For fun: 7.10 Use a list comprehension to make a list called even of the even numbers in range(10)."
   ]
  },
  {
   "cell_type": "code",
   "execution_count": 17,
   "id": "7142f2bc",
   "metadata": {},
   "outputs": [
    {
     "data": {
      "text/plain": [
       "[0, 2, 4, 6, 8]"
      ]
     },
     "execution_count": 17,
     "metadata": {},
     "output_type": "execute_result"
    }
   ],
   "source": [
    "even = [2*n for n in range(10//2)]\n",
    "even"
   ]
  },
  {
   "cell_type": "markdown",
   "id": "b2967c88",
   "metadata": {},
   "source": [
    "9.1 Define a function called good() that returns the following list: ['Harry', 'Ron', 'Hermione']."
   ]
  },
  {
   "cell_type": "code",
   "execution_count": 18,
   "id": "81546ff3",
   "metadata": {},
   "outputs": [
    {
     "name": "stdout",
     "output_type": "stream",
     "text": [
      "['Harry', 'Ron', 'Hermione']\n"
     ]
    }
   ],
   "source": [
    "def good():\n",
    "    return ['Harry', 'Ron', 'Hermione']\n",
    "print(good())"
   ]
  },
  {
   "cell_type": "markdown",
   "id": "622bd9fe",
   "metadata": {},
   "source": [
    "9.2 Define a generator function called get_odds() that returns the odd numbers from range(10). Use a for loop to find and print the third value returned."
   ]
  },
  {
   "cell_type": "code",
   "execution_count": 23,
   "id": "867f949c",
   "metadata": {},
   "outputs": [
    {
     "name": "stdout",
     "output_type": "stream",
     "text": [
      "Third value returned from get_odds() is 5\n"
     ]
    }
   ],
   "source": [
    "def get_odds(max=10):  ## allow optional argument for the max value\n",
    "    for n in range(max):\n",
    "        if n%2: yield n  ## n%2 returns 1 for odd (remainder = 1)\n",
    "\n",
    "\n",
    "# Use a for loop to find and print the third value returned (WHICH IS TOTALLY SILLY)\n",
    "i = 1\n",
    "for n in get_odds():\n",
    "    if i==3:\n",
    "        print('Third value returned from get_odds() is', n)\n",
    "    i += 1"
   ]
  },
  {
   "cell_type": "code",
   "execution_count": null,
   "id": "3d282da8",
   "metadata": {},
   "outputs": [],
   "source": []
  }
 ],
 "metadata": {
  "kernelspec": {
   "display_name": "Python 3 (ipykernel)",
   "language": "python",
   "name": "python3"
  },
  "language_info": {
   "codemirror_mode": {
    "name": "ipython",
    "version": 3
   },
   "file_extension": ".py",
   "mimetype": "text/x-python",
   "name": "python",
   "nbconvert_exporter": "python",
   "pygments_lexer": "ipython3",
   "version": "3.11.5"
  }
 },
 "nbformat": 4,
 "nbformat_minor": 5
}
